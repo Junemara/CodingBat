{
 "cells": [
  {
   "cell_type": "markdown",
   "id": "b9c731c1",
   "metadata": {},
   "source": [
    "# PYTHON CodingBat\n",
    "\n"
   ]
  },
  {
   "cell_type": "markdown",
   "id": "e87d9621",
   "metadata": {},
   "source": [
    "### Warmup 1\n",
    "\n",
    "####sleep_in\n",
    "\n",
    "The parameter weekday is True if it is a weekday, and the parameter vacation is True if we are on vacation. We sleep in if it is not a weekday or we're on vacation. Return True if we sleep in.\n",
    "\n",
    "sleep_in(False, False) → True\n",
    "sleep_in(True, False) → False\n",
    "sleep_in(False, True) → True"
   ]
  },
  {
   "cell_type": "code",
   "execution_count": null,
   "id": "3ba01d4a",
   "metadata": {},
   "outputs": [],
   "source": [
    "def sleep_in(weekday, vacation):\n",
    "  \n",
    "  if not weekday or vacation:\n",
    "    return True\n",
    "  else:\n",
    "    return False"
   ]
  },
  {
   "cell_type": "markdown",
   "id": "d998ec91",
   "metadata": {},
   "source": [
    "####diff21\n",
    "\n",
    "Given an int n, return the absolute difference between n and 21, except return double the absolute difference if n is over 21.\n",
    "\n",
    "diff21(19) → 2\n",
    "diff21(10) → 11\n",
    "diff21(21) → 0"
   ]
  },
  {
   "cell_type": "code",
   "execution_count": null,
   "id": "51b62865",
   "metadata": {},
   "outputs": [],
   "source": [
    "def diff21(n):\n",
    "  \n",
    "  d = abs(21-n)\n",
    "  if n > 21:\n",
    "    d += d\n",
    "  return d "
   ]
  },
  {
   "cell_type": "markdown",
   "id": "037585dd",
   "metadata": {},
   "source": [
    "####near_hundred\n",
    "\n",
    "Given an int n, return True if it is within 10 of 100 or 200. Note: abs(num) computes the absolute value of a number.\n",
    "\n",
    "near_hundred(93) → True\n",
    "near_hundred(90) → True\n",
    "near_hundred(89) → False"
   ]
  },
  {
   "cell_type": "code",
   "execution_count": null,
   "id": "ffcb936c",
   "metadata": {},
   "outputs": [],
   "source": [
    "def near_hundred(n):\n",
    "  \n",
    " if n in range(90,111) or n in range(190,211):\n",
    "  return True\n",
    " else:\n",
    "  return False"
   ]
  },
  {
   "cell_type": "markdown",
   "id": "d344ee1a",
   "metadata": {},
   "source": [
    "####missing_char\n",
    "\n",
    "Given a non-empty string and an int n, return a new string where the char at index n has been removed. The value of n will be a valid index of a char in the original string (i.e. n will be in the range 0..len(str)-1 inclusive).\n",
    "\n",
    "missing_char('kitten', 1) → 'ktten'\n",
    "missing_char('kitten', 0) → 'itten'\n",
    "missing_char('kitten', 4) → 'kittn'"
   ]
  },
  {
   "cell_type": "code",
   "execution_count": null,
   "id": "69ddc825",
   "metadata": {},
   "outputs": [],
   "source": [
    "def missing_char(str, n):\n",
    "  return str[:n] + str[n+1:]"
   ]
  },
  {
   "cell_type": "markdown",
   "id": "2dc1e674",
   "metadata": {},
   "source": [
    "####monkey_trouble\n",
    "\n",
    "We have two monkeys, a and b, and the parameters a_smile and b_smile indicate if each is smiling. We are in trouble if they are both smiling or if neither of them is smiling. Return True if we are in trouble.\n",
    "\n",
    "monkey_trouble(True, True) → True\n",
    "monkey_trouble(False, False) → True\n",
    "monkey_trouble(True, False) → False"
   ]
  },
  {
   "cell_type": "code",
   "execution_count": null,
   "id": "366a4267",
   "metadata": {},
   "outputs": [],
   "source": [
    "def monkey_trouble(a_smile, b_smile):\n",
    "  \n",
    "  if a_smile == b_smile:\n",
    "    return True\n",
    "  else:\n",
    "    return False"
   ]
  },
  {
   "cell_type": "markdown",
   "id": "0a1250ec",
   "metadata": {},
   "source": [
    "####parrot_trouble\n",
    "\n",
    "We have a loud talking parrot. The \"hour\" parameter is the current hour time in the range 0..23. We are in trouble if the parrot is talking and the hour is before 7 or after 20. Return True if we are in trouble.\n",
    "\n",
    "parrot_trouble(True, 6) → True\n",
    "parrot_trouble(True, 7) → False\n",
    "parrot_trouble(False, 6) → False"
   ]
  },
  {
   "cell_type": "code",
   "execution_count": null,
   "id": "40374109",
   "metadata": {},
   "outputs": [],
   "source": [
    "def parrot_trouble(talking, hour):\n",
    "  \n",
    "  if talking and not hour in range(7,21):\n",
    "   return True\n",
    "  else:\n",
    "   return False"
   ]
  },
  {
   "cell_type": "markdown",
   "id": "a0682c8c",
   "metadata": {},
   "source": [
    "####pos_neg\n",
    "\n",
    "Given 2 int values, return True if one is negative and one is positive. Except if the parameter \"negative\" is True, then return True only if both are negative.\n",
    "\n",
    "pos_neg(1, -1, False) → True\n",
    "pos_neg(-1, 1, False) → True\n",
    "pos_neg(-4, -5, True) → True"
   ]
  },
  {
   "cell_type": "code",
   "execution_count": null,
   "id": "27c0e3fa",
   "metadata": {},
   "outputs": [],
   "source": [
    "def pos_neg(a, b, negative):\n",
    "  \n",
    "  if negative:\n",
    "    if a + b <= -1:\n",
    "      return True\n",
    "    else:\n",
    "      return False\n",
    "  if a <= -1 and b >= 0 or b <= -1 and a >= 0:\n",
    "    return True\n",
    "  else:\n",
    "    return False"
   ]
  },
  {
   "cell_type": "markdown",
   "id": "e6df3aa2",
   "metadata": {},
   "source": [
    "####front_back\n",
    "\n",
    "Given a string, return a new string where the first and last chars have been exchanged.\n",
    "\n",
    "front_back('code') → 'eodc'\n",
    "front_back('a') → 'a'\n",
    "front_back('ab') → 'ba'"
   ]
  },
  {
   "cell_type": "code",
   "execution_count": null,
   "id": "80259496",
   "metadata": {},
   "outputs": [],
   "source": [
    "def front_back(str):\n",
    "\n",
    " if len(str) <= 1:\n",
    "  return str\n",
    " else:\n",
    "  return str[-1:] + str[1:-1] + str[0:1]"
   ]
  },
  {
   "cell_type": "markdown",
   "id": "4c13cfcd",
   "metadata": {},
   "source": [
    "####sum_double\n",
    "\n",
    "Given two int values, return their sum. Unless the two values are the same, then return double their sum.\n",
    "\n",
    "sum_double(1, 2) → 3\n",
    "sum_double(3, 2) → 5\n",
    "sum_double(2, 2) → 8"
   ]
  },
  {
   "cell_type": "code",
   "execution_count": null,
   "id": "816e679e",
   "metadata": {},
   "outputs": [],
   "source": [
    "def sum_double(a, b):\n",
    "  \n",
    "  s = a + b\n",
    "  if a == b:\n",
    "    s = s * 2\n",
    "  return s"
   ]
  },
  {
   "cell_type": "markdown",
   "id": "12507dba",
   "metadata": {},
   "source": [
    "####makes10\n",
    "\n",
    "Given 2 ints, a and b, return True if one if them is 10 or if their sum is 10.\n",
    "\n",
    "makes10(9, 10) → True\n",
    "makes10(9, 9) → False\n",
    "makes10(1, 9) → True"
   ]
  },
  {
   "cell_type": "code",
   "execution_count": null,
   "id": "668b4164",
   "metadata": {},
   "outputs": [],
   "source": [
    "def makes10(a, b):\n",
    "  \n",
    "  if 10 in (a, b) or a + b == 10:\n",
    "    return True\n",
    "  else:\n",
    "    return False"
   ]
  },
  {
   "cell_type": "markdown",
   "id": "04e0d75c",
   "metadata": {},
   "source": [
    "####not_string\n",
    "\n",
    "Given a string, return a new string where \"not \" has been added to the front. However, if the string already begins with \"not\", return the string unchanged.\n",
    "\n",
    "not_string('candy') → 'not candy'\n",
    "not_string('x') → 'not x'\n",
    "not_string('not bad') → 'not bad'"
   ]
  },
  {
   "cell_type": "code",
   "execution_count": null,
   "id": "f1a0a574",
   "metadata": {},
   "outputs": [],
   "source": [
    "def not_string(str):\n",
    "  \n",
    "  ikke = 'not'\n",
    "  if str.startswith(ikke):\n",
    "    return str\n",
    "  else:\n",
    "    return ikke + ' ' + str"
   ]
  },
  {
   "cell_type": "markdown",
   "id": "7573c0db",
   "metadata": {},
   "source": [
    "####front3\n",
    "\n",
    "Given a string, we'll say that the front is the first 3 chars of the string. If the string length is less than 3, the front is whatever is there. Return a new string which is 3 copies of the front.\n",
    "\n",
    "front3('Java') → 'JavJavJav'\n",
    "front3('Chocolate') → 'ChoChoCho'\n",
    "front3('abc') → 'abcabcabc'"
   ]
  },
  {
   "cell_type": "code",
   "execution_count": null,
   "id": "9eef65ec",
   "metadata": {},
   "outputs": [],
   "source": [
    "def front3(str):\n",
    "  \n",
    "  front = str[0:3]\n",
    "  return front + front + front"
   ]
  },
  {
   "cell_type": "markdown",
   "id": "09c86271",
   "metadata": {},
   "source": [
    "### Warmup 2\n",
    "\n",
    "####string_times\n",
    "\n",
    "Given a string and a non-negative int n, return a larger string that is n copies of the original string.\n",
    "\n",
    "string_times('Hi', 2) → 'HiHi'\n",
    "string_times('Hi', 3) → 'HiHiHi'\n",
    "string_times('Hi', 1) → 'Hi'"
   ]
  },
  {
   "cell_type": "code",
   "execution_count": null,
   "id": "d2e3db3d",
   "metadata": {},
   "outputs": [],
   "source": [
    "def string_times(str, n):\n",
    " \n",
    " res = ''\n",
    " for n in range(n):\n",
    "   res += str \n",
    " return res\n",
    "  "
   ]
  },
  {
   "cell_type": "markdown",
   "id": "81d0b925",
   "metadata": {},
   "source": [
    "####string_splosion\n",
    "\n",
    "Given a non-empty string like \"Code\" return a string like \"CCoCodCode\".\n",
    "\n",
    "string_splosion('Code') → 'CCoCodCode'\n",
    "string_splosion('abc') → 'aababc'\n",
    "string_splosion('ab') → 'aab'"
   ]
  },
  {
   "cell_type": "code",
   "execution_count": null,
   "id": "29aeaf48",
   "metadata": {},
   "outputs": [],
   "source": [
    "def string_splosion(str):\n",
    "  \n",
    "  n = len(str)\n",
    "  x = 0\n",
    "  res = ''\n",
    "  for n in range(n):\n",
    "    res += str[:x+1]\n",
    "    x += 1\n",
    "  return res\n",
    "  "
   ]
  },
  {
   "cell_type": "markdown",
   "id": "7b268beb",
   "metadata": {},
   "source": [
    "####array_front9\n",
    "\n",
    "Given an array of ints, return True if one of the first 4 elements in the array is a 9. The array length may be less than 4.\n",
    "\n",
    "array_front9([1, 2, 9, 3, 4]) → True\n",
    "array_front9([1, 2, 3, 4, 9]) → False\n",
    "array_front9([1, 2, 3, 4, 5]) → False"
   ]
  },
  {
   "cell_type": "code",
   "execution_count": null,
   "id": "7509bce7",
   "metadata": {},
   "outputs": [],
   "source": [
    "def array_front9(nums):\n",
    "  \n",
    "  front = nums[0:4]\n",
    "  finn = 9\n",
    "  if finn in front:\n",
    "    return True\n",
    "  else:\n",
    "    return False\n"
   ]
  },
  {
   "cell_type": "markdown",
   "id": "92008354",
   "metadata": {},
   "source": [
    "####front_times\n",
    "\n",
    "Given a string and a non-negative int n, we'll say that the front of the string is the first 3 chars, or whatever is there if the string is less than length 3. Return n copies of the front;\n",
    "\n",
    "front_times('Chocolate', 2) → 'ChoCho'\n",
    "front_times('Chocolate', 3) → 'ChoChoCho'\n",
    "front_times('Abc', 3) → 'AbcAbcAbc'"
   ]
  },
  {
   "cell_type": "code",
   "execution_count": null,
   "id": "dfcf6211",
   "metadata": {},
   "outputs": [],
   "source": [
    "def front_times(str, n):\n",
    "  \n",
    "  front = str[0:3]\n",
    "  res = ''\n",
    "  for n in range(n):\n",
    "    res  += front\n",
    "  return res\n"
   ]
  },
  {
   "cell_type": "markdown",
   "id": "8feb01ed",
   "metadata": {},
   "source": [
    "####last2\n",
    "\n",
    "Given a string, return the count of the number of times that a substring length 2 appears in the string and also as the last 2 chars of the string, so \"hixxxhi\" yields 1 (we won't count the end substring).\n",
    "\n",
    "last2('hixxhi') → 1\n",
    "last2('xaxxaxaxx') → 1\n",
    "last2('axxxaaxx') → 2"
   ]
  },
  {
   "cell_type": "code",
   "execution_count": null,
   "id": "e9a7251d",
   "metadata": {},
   "outputs": [],
   "source": [
    "def last2(str):\n",
    "  \n",
    "  sub = str[-2:]\n",
    "  res = str.count(sub) - 1\n",
    "  a = str[-1:]\n",
    "  b = str[-2:-1]\n",
    "  abc = a + a + a \n",
    "  if a == b:\n",
    "   res += str.count(abc)\n",
    "  if str == '':\n",
    "    return 0\n",
    "    \n",
    "  return res "
   ]
  },
  {
   "cell_type": "markdown",
   "id": "106ca9cd",
   "metadata": {},
   "source": [
    "####array123\n",
    "\n",
    "Given an array of ints, return True if the sequence of numbers 1, 2, 3 appears in the array somewhere.\n",
    "\n",
    "array123([1, 1, 2, 3, 1]) → True\n",
    "array123([1, 1, 2, 4, 1]) → False\n",
    "array123([1, 1, 2, 1, 2, 3]) → True"
   ]
  },
  {
   "cell_type": "code",
   "execution_count": null,
   "id": "1f648694",
   "metadata": {},
   "outputs": [],
   "source": [
    "def array123(nums):\n",
    " \n",
    " x = 0\n",
    " tell = len(nums)\n",
    " finn = [1, 2, 3]\n",
    " sjekk = []\n",
    " \n",
    " for n in range(tell):\n",
    "    sjekk = nums[x:x+3]\n",
    "    x += 1\n",
    "    \n",
    "    if sjekk == finn:\n",
    "      return True\n",
    " if sjekk != finn:\n",
    "    return False"
   ]
  },
  {
   "cell_type": "markdown",
   "id": "75f46270",
   "metadata": {},
   "source": [
    "####string_bits\n",
    "\n",
    "Given a string, return a new string made of every other char starting with the first, so \"Hello\" yields \"Hlo\".\n",
    "\n",
    "string_bits('Hello') → 'Hlo'\n",
    "string_bits('Hi') → 'H'\n",
    "string_bits('Heeololeo') → 'Hello'"
   ]
  },
  {
   "cell_type": "code",
   "execution_count": null,
   "id": "dd715284",
   "metadata": {},
   "outputs": [],
   "source": [
    "def string_bits(str):\n",
    "  return str[::2]"
   ]
  },
  {
   "cell_type": "markdown",
   "id": "faef37d3",
   "metadata": {},
   "source": [
    "####array_count9\n",
    "\n",
    "Given an array of ints, return the number of 9's in the array.\n",
    "\n",
    "array_count9([1, 2, 9]) → 1\n",
    "array_count9([1, 9, 9]) → 2\n",
    "array_count9([1, 9, 9, 3, 9]) → 3"
   ]
  },
  {
   "cell_type": "code",
   "execution_count": null,
   "id": "e9ca133f",
   "metadata": {},
   "outputs": [],
   "source": [
    "def array_count9(nums):\n",
    "  return nums.count(9)"
   ]
  },
  {
   "cell_type": "markdown",
   "id": "37d4616a",
   "metadata": {},
   "source": [
    "####string_match\n",
    "\n",
    "Given 2 strings, a and b, return the number of the positions where they contain the same length 2 substring. So \"xxcaazz\" and \"xxbaaz\" yields 3, since the \"xx\", \"aa\", and \"az\" substrings appear in the same place in both strings.\n",
    "\n",
    "string_match('xxcaazz', 'xxbaaz') → 3\n",
    "string_match('abc', 'abc') → 2\n",
    "string_match('abc', 'axc') → 0"
   ]
  },
  {
   "cell_type": "code",
   "execution_count": null,
   "id": "ca46150a",
   "metadata": {},
   "outputs": [],
   "source": [
    "def string_match(a, b):\n",
    "  \n",
    "  res = 0\n",
    "  for x in range(len(a)-1):\n",
    "    sub = a[x:x+2]\n",
    "    subb = b[x:x+2]\n",
    "    if sub == subb:\n",
    "      res += 1\n",
    "  \n",
    "  return res"
   ]
  },
  {
   "cell_type": "markdown",
   "id": "35463217",
   "metadata": {},
   "source": [
    "### Logic 1\n",
    "\n",
    "####cigar_party\n",
    "\n",
    "When squirrels get together for a party, they like to have cigars. A squirrel party is successful when the number of cigars is between 40 and 60, inclusive. Unless it is the weekend, in which case there is no upper bound on the number of cigars. Return True if the party with the given values is successful, or False otherwise.\n",
    "\n",
    "cigar_party(30, False) → False\n",
    "cigar_party(50, False) → True\n",
    "cigar_party(70, True) → True"
   ]
  },
  {
   "cell_type": "code",
   "execution_count": null,
   "id": "d4f7886e",
   "metadata": {},
   "outputs": [],
   "source": [
    "def cigar_party(cigars, is_weekend):\n",
    "  \n",
    "  if cigars >= 40 and is_weekend:\n",
    "    return True\n",
    "  if cigars in range(40,61):\n",
    "   return True\n",
    "  else:\n",
    "   return False"
   ]
  },
  {
   "cell_type": "markdown",
   "id": "81a5f375",
   "metadata": {},
   "source": [
    "####love6\n",
    "\n",
    "The number 6 is a truly great number. Given two int values, a and b, return True if either one is 6. Or if their sum or difference is 6. Note: the function abs(num) computes the absolute value of a number.\n",
    "\n",
    "love6(6, 4) → True\n",
    "love6(4, 5) → False\n",
    "love6(1, 5) → True"
   ]
  },
  {
   "cell_type": "code",
   "execution_count": null,
   "id": "92b10106",
   "metadata": {},
   "outputs": [],
   "source": [
    "def love6(a, b):\n",
    "  \n",
    "  s = a + b\n",
    "  d = abs(a-b)\n",
    "  l = [a,b,s,d]\n",
    "  finn = 6\n",
    "  \n",
    "  if finn in l:\n",
    "    return True\n",
    "  else:\n",
    "    return False"
   ]
  },
  {
   "cell_type": "markdown",
   "id": "960e4ed8",
   "metadata": {},
   "source": [
    "####date_fashion\n",
    "\n",
    "You and your date are trying to get a table at a restaurant. The parameter \"you\" is the stylishness of your clothes, in the range 0..10, and \"date\" is the stylishness of your date's clothes. The result getting the table is encoded as an int value with 0=no, 1=maybe, 2=yes. If either of you is very stylish, 8 or more, then the result is 2 (yes). With the exception that if either of you has style of 2 or less, then the result is 0 (no). Otherwise the result is 1 (maybe).\n",
    "\n",
    "date_fashion(5, 10) → 2\n",
    "date_fashion(5, 2) → 0\n",
    "date_fashion(5, 5) → 1"
   ]
  },
  {
   "cell_type": "code",
   "execution_count": null,
   "id": "c10f8e8d",
   "metadata": {},
   "outputs": [],
   "source": [
    "def date_fashion(you, date):\n",
    "  \n",
    "  if you <= 2 or date <= 2:\n",
    "    return 0\n",
    "  elif you >= 8 or date >= 8:\n",
    "    return 2\n",
    "  else:\n",
    "    return 1"
   ]
  },
  {
   "cell_type": "markdown",
   "id": "c2a7f4a0",
   "metadata": {},
   "source": [
    "####sorta_sum\n",
    "\n",
    "Given 2 ints, a and b, return their sum. However, sums in the range 10..19 inclusive, are forbidden, so in that case just return 20.\n",
    "\n",
    "sorta_sum(3, 4) → 7\n",
    "sorta_sum(9, 4) → 20\n",
    "sorta_sum(10, 11) → 21"
   ]
  },
  {
   "cell_type": "code",
   "execution_count": null,
   "id": "225c5283",
   "metadata": {},
   "outputs": [],
   "source": [
    "def sorta_sum(a, b):\n",
    "  \n",
    "  s = a + b\n",
    "  if s in range(10,20):\n",
    "    return 20\n",
    "  else:\n",
    "    return s"
   ]
  },
  {
   "cell_type": "markdown",
   "id": "56ee4f8e",
   "metadata": {},
   "source": [
    "####int1to10\n",
    "\n",
    "Given a number n, return True if n is in the range 1..10, inclusive. Unless outside_mode is True, in which case return True if the number is less or equal to 1, or greater or equal to 10.\n",
    "\n",
    "in1to10(5, False) → True\n",
    "in1to10(11, False) → False\n",
    "in1to10(11, True) → True"
   ]
  },
  {
   "cell_type": "code",
   "execution_count": null,
   "id": "038c6e60",
   "metadata": {},
   "outputs": [],
   "source": [
    "def in1to10(n, outside_mode):\n",
    "  \n",
    "  if n in range(1,11) and not outside_mode:\n",
    "    return True\n",
    "  if not n in range(2,10) and outside_mode:\n",
    "    return True\n",
    "  else:\n",
    "    return False\n",
    "    "
   ]
  },
  {
   "cell_type": "markdown",
   "id": "ed567abc",
   "metadata": {},
   "source": [
    "####squirrel_play\n",
    "\n",
    "The squirrels in Palo Alto spend most of the day playing. In particular, they play if the temperature is between 60 and 90 (inclusive). Unless it is summer, then the upper limit is 100 instead of 90. Given an int temperature and a boolean is_summer, return True if the squirrels play and False otherwise.\n",
    "\n",
    "squirrel_play(70, False) → True\n",
    "squirrel_play(95, False) → False\n",
    "squirrel_play(95, True) → True"
   ]
  },
  {
   "cell_type": "code",
   "execution_count": null,
   "id": "e298f257",
   "metadata": {},
   "outputs": [],
   "source": [
    "def squirrel_play(temp, is_summer):\n",
    " \n",
    "  if temp in range(60,91):\n",
    "    return True\n",
    "  if temp in range(60,101) and is_summer:\n",
    "    return True\n",
    "  else:\n",
    "    return False"
   ]
  },
  {
   "cell_type": "markdown",
   "id": "0b0ea82a",
   "metadata": {},
   "source": [
    "####alarm_clock\n",
    "\n",
    "Given a day of the week encoded as 0=Sun, 1=Mon, 2=Tue, ...6=Sat, and a boolean indicating if we are on vacation, return a string of the form \"7:00\" indicating when the alarm clock should ring. Weekdays, the alarm should be \"7:00\" and on the weekend it should be \"10:00\". Unless we are on vacation -- then on weekdays it should be \"10:00\" and weekends it should be \"off\".\n",
    "\n",
    "alarm_clock(1, False) → '7:00'\n",
    "alarm_clock(5, False) → '7:00'\n",
    "alarm_clock(0, False) → '10:00'"
   ]
  },
  {
   "cell_type": "code",
   "execution_count": null,
   "id": "08d63f48",
   "metadata": {},
   "outputs": [],
   "source": [
    "def alarm_clock(day, vacation):\n",
    "  \n",
    "  tidlig = '7:00'\n",
    "  sent = '10:00'\n",
    "  off = 'off'\n",
    "  uke = [1,2,3,4,5]\n",
    "  \n",
    "  if vacation:\n",
    "    if day in uke:\n",
    "      return sent\n",
    "    else:\n",
    "      return off\n",
    "  if not vacation:\n",
    "    if day in uke:\n",
    "      return tidlig\n",
    "    else:\n",
    "      return sent"
   ]
  },
  {
   "cell_type": "markdown",
   "id": "27a81e04",
   "metadata": {},
   "source": [
    "####near_ten\n",
    "\n",
    "Given a non-negative number \"num\", return True if num is within 2 of a multiple of 10. Note: (a % b) is the remainder of dividing a by b, so (7 % 5) is 2. See also: Introduction to Mod\n",
    "\n",
    "near_ten(12) → True\n",
    "near_ten(17) → False\n",
    "near_ten(19) → True"
   ]
  },
  {
   "cell_type": "code",
   "execution_count": null,
   "id": "60c56683",
   "metadata": {},
   "outputs": [],
   "source": [
    "def near_ten(num):\n",
    "  \n",
    "  if (num % 10) not in range(3,8):\n",
    "    return True\n",
    "  else:\n",
    "    return False"
   ]
  },
  {
   "cell_type": "markdown",
   "id": "5a09727a",
   "metadata": {},
   "source": [
    "####caught_speeding\n",
    "\n",
    "You are driving a little too fast, and a police officer stops you. Write code to compute the result, encoded as an int value: 0=no ticket, 1=small ticket, 2=big ticket. If speed is 60 or less, the result is 0. If speed is between 61 and 80 inclusive, the result is 1. If speed is 81 or more, the result is 2. Unless it is your birthday -- on that day, your speed can be 5 higher in all cases.\n",
    "\n",
    "\n",
    "caught_speeding(60, False) → 0\n",
    "caught_speeding(65, False) → 1\n",
    "caught_speeding(65, True) → 0"
   ]
  },
  {
   "cell_type": "code",
   "execution_count": null,
   "id": "871c57c9",
   "metadata": {},
   "outputs": [],
   "source": [
    "def caught_speeding(speed, is_birthday):\n",
    "  \n",
    "  if is_birthday:\n",
    "    speed = speed - 5\n",
    "  if speed in range(61,81):\n",
    "    return 1\n",
    "  if speed >= 81:\n",
    "    return 2\n",
    "  else:\n",
    "    return 0"
   ]
  },
  {
   "cell_type": "markdown",
   "id": "ac685b1e",
   "metadata": {},
   "source": [
    "### Logic 2\n",
    "\n",
    "####making_bricks\n",
    "\n",
    "make_bricks(3, 1, 8) → True \n",
    "make_bricks(3, 1, 9) → False \n",
    "make_bricks(3, 2, 10) → True"
   ]
  },
  {
   "cell_type": "code",
   "execution_count": null,
   "id": "a9e0e8d7",
   "metadata": {},
   "outputs": [],
   "source": [
    "\n",
    "def make_bricks(small, big, goal):\n",
    "  \n",
    "  if not big*5 + small >= goal:\n",
    "    return False\n",
    "    \n",
    "  if int(goal/5)*5 + small < goal:\n",
    "    return False\n",
    "    \n",
    "  else:\n",
    "    return True"
   ]
  },
  {
   "cell_type": "markdown",
   "id": "6324c9a4",
   "metadata": {},
   "source": [
    "####make_chocolate\n",
    "\n",
    "make_chocolate(4, 1, 9) → 4\n",
    "make_chocolate(4, 1, 10) → -1\n",
    "make_chocolate(4, 1, 7) → 2"
   ]
  },
  {
   "cell_type": "code",
   "execution_count": null,
   "id": "c7ffcb50",
   "metadata": {},
   "outputs": [],
   "source": [
    "def make_chocolate(small, big, goal):\n",
    "  \n",
    "  if not big*5 + small >= goal or int(goal/5)*5 + small < goal:\n",
    "    return -1\n",
    "    \n",
    "  if int(goal/5) > big:\n",
    "   return goal - (big*5)\n",
    "    \n",
    "  else:\n",
    "    return goal - int(goal/5)*5"
   ]
  },
  {
   "cell_type": "raw",
   "id": "12de76db",
   "metadata": {},
   "source": [
    "####lucky_sum\n",
    "\n",
    "Given 3 int values, a b c, return their sum. However, if one of the values is 13 then it does not count towards the sum and values to its right do not count. So for example, if b is 13, then both b and c do not count.\n",
    "lucky_sum(1, 2, 3) → 6\n",
    "lucky_sum(1, 2, 13) → 3\n",
    "lucky_sum(1, 13, 3) → 1"
   ]
  },
  {
   "cell_type": "code",
   "execution_count": null,
   "id": "f50ad328",
   "metadata": {},
   "outputs": [],
   "source": [
    "def lucky_sum(a, b, c):\n",
    "  \n",
    "  if a == 13:\n",
    "    a = 0 \n",
    "    b = 0\n",
    "    c = 0\n",
    "  if b == 13:\n",
    "    b = 0\n",
    "    c = 0\n",
    "  if c == 13:\n",
    "    c = 0\n",
    " \n",
    "  return a + b + c\n",
    "  "
   ]
  },
  {
   "cell_type": "markdown",
   "id": "1bcf5c4c",
   "metadata": {},
   "source": [
    "####no_teen_sum \n",
    "\n",
    "Given 3 int values, a b c, return their sum. However, if any of the values is a teen -- in the range 13..19 inclusive -- then that value counts as 0, except 15 and 16 do not count as a teens. Write a separate helper \"def fix_teen(n):\"that takes in an int value and returns that value fixed for the teen rule. In this way, you avoid repeating the teen code 3 times (i.e. \"decomposition\"). Define the helper below and at the same indent level as the main no_teen_sum().\n",
    "\n",
    "no_teen_sum(1, 2, 3) → 6\n",
    "no_teen_sum(2, 13, 1) → 3\n",
    "no_teen_sum(2, 1, 14) → 3"
   ]
  },
  {
   "cell_type": "code",
   "execution_count": null,
   "id": "066c1981",
   "metadata": {},
   "outputs": [],
   "source": [
    "def no_teen_sum(a, b, c):\n",
    "  return fix_teen(a) + fix_teen(b) + fix_teen(c)\n",
    "\n",
    "def fix_teen(n):\n",
    " if n in {15,16}:\n",
    "   return n\n",
    " elif n in range(13,20):\n",
    "   return 0\n",
    " else:\n",
    "   return n\n",
    "  "
   ]
  },
  {
   "cell_type": "markdown",
   "id": "3ac4ccfe",
   "metadata": {},
   "source": [
    "####lone_sum \n",
    "\n",
    "Given 3 int values, a b c, return their sum. However, if one of the values is the same as another of the values, it does not count towards the sum.\n",
    "\n",
    "lone_sum(1, 2, 3) → 6\n",
    "lone_sum(3, 2, 3) → 2\n",
    "lone_sum(3, 3, 3) → 0"
   ]
  },
  {
   "cell_type": "code",
   "execution_count": null,
   "id": "56140ca2",
   "metadata": {},
   "outputs": [],
   "source": [
    "def lone_sum(a, b, c):\n",
    "  tot = a + b + c\n",
    "  \n",
    "  if a == b or a == c:\n",
    "    tot -= a\n",
    "  if b == c or b == a:\n",
    "    tot -= b\n",
    "  if c == a or c == b:\n",
    "    tot -= c\n",
    "    \n",
    "  return tot\n",
    "    "
   ]
  },
  {
   "cell_type": "markdown",
   "id": "595ec4f4",
   "metadata": {},
   "source": [
    "####close_far\n",
    "\n",
    "Given three ints, a b c, return True if one of b or c is \"close\" (differing from a by at most 1), while the other is \"far\", differing from both other values by 2 or more. Note: abs(num) computes the absolute value of a number.\n",
    "\n",
    "close_far(1, 2, 10) → True\n",
    "close_far(1, 2, 3) → False\n",
    "close_far(4, 1, 3) → True"
   ]
  },
  {
   "cell_type": "code",
   "execution_count": null,
   "id": "939ca655",
   "metadata": {},
   "outputs": [],
   "source": [
    "def close_far(a, b, c):\n",
    "  \n",
    "  tall1 = abs(a - b)\n",
    "  tall2 = abs(b - c)\n",
    "  tall3 = abs(c - a)\n",
    "  \n",
    "  if abs(tall1) <= 1 and tall2 + tall3 >= 4:\n",
    "    return True\n",
    "  if abs(tall2) <= 1 and tall1 + tall3 >= 4:\n",
    "    return True\n",
    "  if abs(tall3) <= 1 and tall1 + tall2 >= 4:\n",
    "    return True\n",
    "  else:\n",
    "    return False"
   ]
  },
  {
   "cell_type": "markdown",
   "id": "67e65a80",
   "metadata": {},
   "source": [
    "####round_sum\n",
    "\n",
    "For this problem, we'll round an int value up to the next multiple of 10 if its rightmost digit is 5 or more, so 15 rounds up to 20. Alternately, round down to the previous multiple of 10 if its rightmost digit is less than 5, so 12 rounds down to 10. Given 3 ints, a b c, return the sum of their rounded values. To avoid code repetition, write a separate helper \"def round10(num):\" and call it 3 times. Write the helper entirely below and at the same indent level as round_sum().\n",
    "\n",
    "\n",
    "round_sum(16, 17, 18) → 60\n",
    "round_sum(12, 13, 14) → 30\n",
    "round_sum(6, 4, 4) → 10"
   ]
  },
  {
   "cell_type": "markdown",
   "id": "7de7918f",
   "metadata": {},
   "source": [
    "### List 1\n",
    "\n",
    "####first_last6\n",
    "\n",
    "Given an array of ints, return True if 6 appears as either the first or last element in the array. The array will be length 1 or more.\n",
    "\n",
    "first_last6([1, 2, 6]) → True\n",
    "first_last6([6, 1, 2, 3]) → True\n",
    "first_last6([13, 6, 1, 2, 3]) → False"
   ]
  },
  {
   "cell_type": "code",
   "execution_count": null,
   "id": "be10ee3a",
   "metadata": {},
   "outputs": [],
   "source": [
    "def first_last6(nums):\n",
    "  \n",
    "  if nums[0] == 6 or nums[-1] == 6:\n",
    "    return True\n",
    "  else:\n",
    "    return False"
   ]
  },
  {
   "cell_type": "markdown",
   "id": "027f1743",
   "metadata": {},
   "source": [
    "####common_end\n",
    "\n",
    "Given 2 arrays of ints, a and b, return True if they have the same first element or they have the same last element. Both arrays will be length 1 or more.\n",
    "\n",
    "common_end([1, 2, 3], [7, 3]) → True\n",
    "common_end([1, 2, 3], [7, 3, 2]) → False\n",
    "common_end([1, 2, 3], [1, 3]) → True"
   ]
  },
  {
   "cell_type": "code",
   "execution_count": null,
   "id": "58d7b904",
   "metadata": {},
   "outputs": [],
   "source": [
    "def common_end(a, b):\n",
    "  \n",
    "  if a[0] == b[0] or a[-1] == b[-1]:\n",
    "    return True\n",
    "  else:\n",
    "    return False\n"
   ]
  },
  {
   "cell_type": "markdown",
   "id": "97a686dd",
   "metadata": {},
   "source": [
    "####reverse3\n",
    "\n",
    "Given an array of ints length 3, return a new array with the elements in reverse order, so {1, 2, 3} becomes {3, 2, 1}.\n",
    "\n",
    "reverse3([1, 2, 3]) → [3, 2, 1]\n",
    "reverse3([5, 11, 9]) → [9, 11, 5]\n",
    "reverse3([7, 0, 0]) → [0, 0, 7]"
   ]
  },
  {
   "cell_type": "code",
   "execution_count": null,
   "id": "be7b4fe8",
   "metadata": {},
   "outputs": [],
   "source": [
    "def reverse3(nums):\n",
    " \n",
    "  nums.reverse()\n",
    "  return nums\n"
   ]
  },
  {
   "cell_type": "markdown",
   "id": "a1100ee5",
   "metadata": {},
   "source": [
    "####middle_way\n",
    "\n",
    "Given 2 int arrays, a and b, each length 3, return a new array length 2 containing their middle elements.\n",
    "\n",
    "middle_way([1, 2, 3], [4, 5, 6]) → [2, 5]\n",
    "middle_way([7, 7, 7], [3, 8, 0]) → [7, 8]\n",
    "middle_way([5, 2, 9], [1, 4, 5]) → [2, 4]"
   ]
  },
  {
   "cell_type": "code",
   "execution_count": null,
   "id": "ec9e227d",
   "metadata": {},
   "outputs": [],
   "source": [
    "def middle_way(a, b):\n",
    "  \n",
    "  l = [a[1], b[1]]\n",
    "  return l"
   ]
  },
  {
   "cell_type": "markdown",
   "id": "8b14165e",
   "metadata": {},
   "source": [
    "####first_last\n",
    "\n",
    "Given an array of ints, return True if the array is length 1 or more, and the first element and the last element are equal.\n",
    "\n",
    "same_first_last([1, 2, 3]) → False\n",
    "same_first_last([1, 2, 3, 1]) → True\n",
    "same_first_last([1, 2, 1]) → True"
   ]
  },
  {
   "cell_type": "code",
   "execution_count": null,
   "id": "5d947f73",
   "metadata": {},
   "outputs": [],
   "source": [
    "def same_first_last(nums):\n",
    "  \n",
    "  if len(nums) >= 1 and nums[0] == nums[-1]:\n",
    "    return True\n",
    "  else:\n",
    "    return False"
   ]
  },
  {
   "cell_type": "markdown",
   "id": "747a1e7b",
   "metadata": {},
   "source": [
    "####sum3\n",
    "\n",
    "Given an array of ints length 3, return the sum of all the elements.\n",
    "\n",
    "sum3([1, 2, 3]) → 6\n",
    "sum3([5, 11, 2]) → 18\n",
    "sum3([7, 0, 0]) → 7"
   ]
  },
  {
   "cell_type": "code",
   "execution_count": null,
   "id": "389d992e",
   "metadata": {},
   "outputs": [],
   "source": [
    "def sum3(nums):\n",
    "  return sum(nums)"
   ]
  },
  {
   "cell_type": "markdown",
   "id": "2135c59c",
   "metadata": {},
   "source": [
    "####max_end3\n",
    "\n",
    "Given an array of ints length 3, figure out which is larger, the first or last element in the array, and set all the other elements to be that value. Return the changed array.\n",
    "\n",
    "max_end3([1, 2, 3]) → [3, 3, 3]\n",
    "max_end3([11, 5, 9]) → [11, 11, 11]\n",
    "max_end3([2, 11, 3]) → [3, 3, 3]"
   ]
  },
  {
   "cell_type": "code",
   "execution_count": null,
   "id": "84af09f2",
   "metadata": {},
   "outputs": [],
   "source": [
    "def max_end3(nums):\n",
    "  \n",
    "  l = []\n",
    "  x = max(nums[0],nums[2])\n",
    "  for n in nums:\n",
    "    l.append(x)\n",
    "  return l\n",
    "  "
   ]
  },
  {
   "cell_type": "markdown",
   "id": "7618749a",
   "metadata": {},
   "source": [
    "####make_ends\n",
    "\n",
    "Given an array of ints, return a new array length 2 containing the first and last elements from the original array. The original array will be length 1 or more.\n",
    "\n",
    "make_ends([1, 2, 3]) → [1, 3]\n",
    "make_ends([1, 2, 3, 4]) → [1, 4]\n",
    "make_ends([7, 4, 6, 2]) → [7, 2]"
   ]
  },
  {
   "cell_type": "code",
   "execution_count": null,
   "id": "36afe214",
   "metadata": {},
   "outputs": [],
   "source": [
    "def make_ends(nums):\n",
    "  \n",
    "  ny = [nums[0], nums[-1]]\n",
    "  return ny"
   ]
  },
  {
   "cell_type": "markdown",
   "id": "4c336124",
   "metadata": {},
   "source": [
    "####make_pi\n",
    "\n",
    "Return an int array length 3 containing the first 3 digits of pi, {3, 1, 4}.\n",
    "\n",
    "make_pi() → [3, 1, 4]"
   ]
  },
  {
   "cell_type": "code",
   "execution_count": null,
   "id": "11b121a6",
   "metadata": {},
   "outputs": [],
   "source": [
    "def make_pi():\n",
    "  return [3,1,4]"
   ]
  },
  {
   "cell_type": "markdown",
   "id": "180d43c8",
   "metadata": {},
   "source": [
    "####rotate_left3\n",
    "\n",
    "Given an array of ints length 3, return an array with the elements \"rotated left\" so {1, 2, 3} yields {2, 3, 1}.\n",
    "\n",
    "rotate_left3([1, 2, 3]) → [2, 3, 1]\n",
    "rotate_left3([5, 11, 9]) → [11, 9, 5]\n",
    "rotate_left3([7, 0, 0]) → [0, 0, 7]"
   ]
  },
  {
   "cell_type": "code",
   "execution_count": null,
   "id": "92a2881f",
   "metadata": {},
   "outputs": [],
   "source": [
    "def rotate_left3(nums):\n",
    "  \n",
    "  l = [nums[1], nums[2], nums[0]]\n",
    "  return l\n",
    "  "
   ]
  },
  {
   "cell_type": "markdown",
   "id": "591a2b87",
   "metadata": {},
   "source": [
    "####sum2\n",
    "\n",
    "Given an array of ints, return the sum of the first 2 elements in the array. If the array length is less than 2, just sum up the elements that exist, returning 0 if the array is length 0.\n",
    "\n",
    "sum2([1, 2, 3]) → 3\n",
    "sum2([1, 1]) → 2\n",
    "sum2([1, 1, 1, 1]) → 2"
   ]
  },
  {
   "cell_type": "code",
   "execution_count": null,
   "id": "302aa03b",
   "metadata": {},
   "outputs": [],
   "source": [
    "def sum2(nums):\n",
    "  \n",
    "  if len(nums) >= 2:\n",
    "    s = nums[0] + nums[1]\n",
    "    return s\n",
    "  else:\n",
    "    return sum(nums)\n",
    "    "
   ]
  },
  {
   "cell_type": "markdown",
   "id": "346c399c",
   "metadata": {},
   "source": [
    "####has23\n",
    "\n",
    "Given an int array length 2, return True if it contains a 2 or a 3.\n",
    "\n",
    "has23([2, 5]) → True\n",
    "has23([4, 3]) → True\n",
    "has23([4, 5]) → False"
   ]
  },
  {
   "cell_type": "code",
   "execution_count": null,
   "id": "e5eb16bf",
   "metadata": {},
   "outputs": [],
   "source": [
    "def has23(nums):\n",
    "  \n",
    "  if 2 in nums or 3 in nums:\n",
    "    return True\n",
    "  else:\n",
    "    return False"
   ]
  },
  {
   "cell_type": "markdown",
   "id": "9d30f6d9",
   "metadata": {},
   "source": [
    "### List 2\n",
    "\n",
    "####has22 \n",
    "\n",
    "Given an array of ints, return True if the array contains a 2 next to a 2 somewhere.\n",
    "has22([1, 2, 2]) → True\n",
    "has22([1, 2, 1, 2]) → False\n",
    "has22([2, 1, 2]) → False"
   ]
  },
  {
   "cell_type": "code",
   "execution_count": null,
   "id": "c8854b18",
   "metadata": {},
   "outputs": [],
   "source": [
    "def has22(nums):\n",
    "\n",
    "  finn = \"2, 2\"\n",
    "  hehe = str(nums)\n",
    "   \n",
    "  if finn in hehe:\n",
    "    return True\n",
    "  else:\n",
    "    return False"
   ]
  },
  {
   "cell_type": "markdown",
   "id": "1c2e894b",
   "metadata": {},
   "source": [
    "####sum67\n",
    "\n",
    "Return the sum of the numbers in the array, except ignore sections of numbers starting with a 6 and extending to the next 7 (every 6 will be followed by at least one 7). Return 0 for no numbers.\n",
    "\n",
    "sum67([1, 2, 2]) → 5\n",
    "sum67([1, 2, 2, 6, 99, 99, 7]) → 5\n",
    "sum67([1, 1, 6, 7, 2]) → 4"
   ]
  },
  {
   "cell_type": "code",
   "execution_count": null,
   "id": "f9b57dcb",
   "metadata": {},
   "outputs": [],
   "source": [
    "def sum67(nums):\n",
    "    \n",
    " tot = 0\n",
    " x = 1\n",
    " for n in nums:\n",
    "    if n == 6:\n",
    "      x = 0\n",
    "    tot += n * x  \n",
    "    if n == 7:\n",
    "      x = 1\n",
    " return  tot\n",
    "   "
   ]
  },
  {
   "cell_type": "markdown",
   "id": "f5f1b847",
   "metadata": {},
   "source": [
    "####big_diff\n",
    "\n",
    "Given an array length 1 or more of ints, return the difference between the largest and smallest values in the array. Note: the built-in min(v1, v2) and max(v1, v2) functions return the smaller or larger of two values.\n",
    "\n",
    "big_diff([10, 3, 5, 6]) → 7\n",
    "big_diff([7, 2, 10, 9]) → 8\n",
    "big_diff([2, 10, 7, 2]) → 8"
   ]
  },
  {
   "cell_type": "code",
   "execution_count": null,
   "id": "6cba0fc3",
   "metadata": {},
   "outputs": [],
   "source": [
    "def big_diff(nums):\n",
    "  \n",
    " tall1 = min(nums)\n",
    " tall2 = max(nums)\n",
    "\n",
    " diff = tall2 - tall1\n",
    " \n",
    " return diff"
   ]
  },
  {
   "cell_type": "markdown",
   "id": "c9bde2aa",
   "metadata": {},
   "source": [
    "####sum13\n",
    "\n",
    "Return the sum of the numbers in the array, returning 0 for an empty array. Except the number 13 is very unlucky, so it does not count and numbers that come immediately after a 13 also do not count.\n",
    "\n",
    "sum13([1, 2, 2, 1]) → 6\n",
    "sum13([1, 1]) → 2\n",
    "sum13([1, 2, 2, 1, 13]) → 6"
   ]
  },
  {
   "cell_type": "code",
   "execution_count": null,
   "id": "7ea8e4b5",
   "metadata": {},
   "outputs": [],
   "source": [
    "def sum13(nums):\n",
    "  \n",
    "  tot = 0\n",
    "  x = 1\n",
    "  \n",
    "  for n in nums:\n",
    "    if n == 13:\n",
    "      x = 0\n",
    "    tot += n * x  #plassering avgjørende. Løsning er anvendt error\n",
    "    if n != 13:\n",
    "      x = 1\n",
    "  return tot   "
   ]
  },
  {
   "cell_type": "markdown",
   "id": "7f41775c",
   "metadata": {},
   "source": [
    "####centered_average\n",
    "\n",
    "Return the \"centered\" average of an array of ints, which we'll say is the mean average of the values, except ignoring the largest and smallest values in the array. If there are multiple copies of the smallest value, ignore just one copy, and likewise for the largest value. Use int division to produce the final average. You may assume that the array is length 3 or more.\n",
    "\n",
    "centered_average([1, 2, 3, 4, 100]) → 3\n",
    "centered_average([1, 1, 5, 5, 10, 8, 7]) → 5\n",
    "centered_average([-10, -4, -2, -4, -2, 0]) → -3"
   ]
  },
  {
   "cell_type": "code",
   "execution_count": null,
   "id": "2fb4a43e",
   "metadata": {},
   "outputs": [],
   "source": [
    "def centered_average(nums):\n",
    "  \n",
    "  tall1 = min(nums)\n",
    "  tall2 = max(nums)\n",
    "  antall = len(nums)\n",
    "  tot = sum(nums)\n",
    "  fikstot = tot - tall1 - tall2\n",
    "  snitt = fikstot / (antall - 2)\n",
    "  \n",
    "  return snitt\n",
    "  "
   ]
  },
  {
   "cell_type": "markdown",
   "id": "fd2841e7",
   "metadata": {},
   "source": [
    "####count_evens\n",
    "\n",
    "Return the number of even ints in the given array. Note: the % \"mod\" operator computes the remainder, e.g. 5 % 2 is 1.\n",
    "\n",
    "count_evens([2, 1, 2, 3, 4]) → 3\n",
    "count_evens([2, 2, 0]) → 3\n",
    "count_evens([1, 3, 5]) → 0"
   ]
  },
  {
   "cell_type": "code",
   "execution_count": null,
   "id": "ca2d8b18",
   "metadata": {},
   "outputs": [],
   "source": [
    "def count_evens(nums):\n",
    "  \n",
    " tell = 0\n",
    " for n in nums:\n",
    "   if n % 2 == 0:\n",
    "     tell += 1\n",
    "     \n",
    " return tell"
   ]
  },
  {
   "cell_type": "markdown",
   "id": "c582627d",
   "metadata": {},
   "source": [
    "### string 1\n",
    "\n",
    "####hello_name\n",
    "\n",
    "Given a string name, e.g. \"Bob\", return a greeting of the form \"Hello Bob!\".\n",
    "\n",
    "hello_name('Bob') → 'Hello Bob!'\n",
    "hello_name('Alice') → 'Hello Alice!'\n",
    "hello_name('X') → 'Hello X!'"
   ]
  },
  {
   "cell_type": "code",
   "execution_count": null,
   "id": "ff2cc236",
   "metadata": {},
   "outputs": [],
   "source": [
    "def hello_name(name):\n",
    "  return 'Hello ' + name + '!'"
   ]
  },
  {
   "cell_type": "markdown",
   "id": "4b0ee4a1",
   "metadata": {},
   "source": [
    "####make_out_word\n",
    "\n",
    "Given an \"out\" string length 4, such as \"<<>>\", and a word, return a new string where the word is in the middle of the out string, e.g. \"<<word>>\".\n",
    "\n",
    "make_out_word('<<>>', 'Yay') → '<<Yay>>'\n",
    "make_out_word('<<>>', 'WooHoo') → '<<WooHoo>>'\n",
    "make_out_word('[[]]', 'word') → '[[word]]'"
   ]
  },
  {
   "cell_type": "code",
   "execution_count": null,
   "id": "f6517c25",
   "metadata": {},
   "outputs": [],
   "source": [
    "def make_out_word(out, word):\n",
    "  \n",
    "  o1 = out[0:2] + word + out[2:4]\n",
    "  return o1"
   ]
  },
  {
   "cell_type": "markdown",
   "id": "6fa71e35",
   "metadata": {},
   "source": [
    "####first_half\n",
    "\n",
    "Given a string of even length, return the first half. So the string \"WooHoo\" yields \"Woo\".\n",
    "\n",
    "first_half('WooHoo') → 'Woo'\n",
    "first_half('HelloThere') → 'Hello'\n",
    "first_half('abcdef') → 'abc'"
   ]
  },
  {
   "cell_type": "code",
   "execution_count": null,
   "id": "01a5bd78",
   "metadata": {},
   "outputs": [],
   "source": [
    "def first_half(str):\n",
    "  \n",
    "  hehe = len(str)\n",
    "  x = hehe/2\n",
    "  return str[0:x]\n"
   ]
  },
  {
   "cell_type": "markdown",
   "id": "a2b30a56",
   "metadata": {},
   "source": [
    "####non_start\n",
    "\n",
    "Given 2 strings, return their concatenation, except omit the first char of each. The strings will be at least length 1.\n",
    "\n",
    "non_start('Hello', 'There') → 'ellohere'\n",
    "non_start('java', 'code') → 'avaode'\n",
    "non_start('shotl', 'java') → 'hotlava'"
   ]
  },
  {
   "cell_type": "code",
   "execution_count": null,
   "id": "dd15c55a",
   "metadata": {},
   "outputs": [],
   "source": [
    "def non_start(a, b):\n",
    "  \n",
    "  a1 = a[1:]\n",
    "  b1 = b[1:]\n",
    "  return a1 + b1"
   ]
  },
  {
   "cell_type": "markdown",
   "id": "f9e07db1",
   "metadata": {},
   "source": [
    "####make_abba\n",
    "\n",
    "Given two strings, a and b, return the result of putting them together in the order abba, e.g. \"Hi\" and \"Bye\" returns \"HiByeByeHi\".\n",
    "\n",
    "make_abba('Hi', 'Bye') → 'HiByeByeHi'\n",
    "make_abba('Yo', 'Alice') → 'YoAliceAliceYo'\n",
    "make_abba('What', 'Up') → 'WhatUpUpWhat'"
   ]
  },
  {
   "cell_type": "code",
   "execution_count": null,
   "id": "aa8639ea",
   "metadata": {},
   "outputs": [],
   "source": [
    "def make_abba(a, b):\n",
    "  \n",
    "  return a+b+b+a"
   ]
  },
  {
   "cell_type": "markdown",
   "id": "1d024218",
   "metadata": {},
   "source": [
    "####extra_end\n",
    "\n",
    "Given a string, return a new string made of 3 copies of the last 2 chars of the original string. The string length will be at least 2.\n",
    "\n",
    "extra_end('Hello') → 'lololo'\n",
    "extra_end('ab') → 'ababab'\n",
    "extra_end('Hi') → 'HiHiHi'"
   ]
  },
  {
   "cell_type": "code",
   "execution_count": null,
   "id": "7e25ad6b",
   "metadata": {},
   "outputs": [],
   "source": [
    "def extra_end(str):\n",
    "  \n",
    "  bit = str[-2] + str[-1]\n",
    "  return bit + bit + bit"
   ]
  },
  {
   "cell_type": "markdown",
   "id": "fbf626ad",
   "metadata": {},
   "source": [
    "####without_end\n",
    "\n",
    "Given a string, return a version without the first and last char, so \"Hello\" yields \"ell\". The string length will be at least 2.\n",
    "\n",
    "without_end('Hello') → 'ell'\n",
    "without_end('java') → 'av'\n",
    "without_end('coding') → 'odin'"
   ]
  },
  {
   "cell_type": "code",
   "execution_count": null,
   "id": "c93bf82f",
   "metadata": {},
   "outputs": [],
   "source": [
    "def without_end(str):\n",
    "  return str[1:-1]\n"
   ]
  },
  {
   "cell_type": "markdown",
   "id": "7382e907",
   "metadata": {},
   "source": [
    "####left2\n",
    "\n",
    "Given a string, return a \"rotated left 2\" version where the first 2 chars are moved to the end. The string length will be at least 2.\n",
    "\n",
    "left2('Hello') → 'lloHe'\n",
    "left2('java') → 'vaja'\n",
    "left2('Hi') → 'Hi'"
   ]
  },
  {
   "cell_type": "code",
   "execution_count": null,
   "id": "f028354e",
   "metadata": {},
   "outputs": [],
   "source": [
    "def left2(str):\n",
    "  return str[2:] + str[:2]"
   ]
  },
  {
   "cell_type": "markdown",
   "id": "d1d54977",
   "metadata": {},
   "source": [
    "####make_tags\n",
    "\n",
    "The web is built with HTML strings like \"<i>Yay</i>\" which draws Yay as italic text. In this example, the \"i\" tag makes <i> and </i> which surround the word \"Yay\". Given tag and word strings, create the HTML string with tags around the word, e.g. \"<i>Yay</i>\".\n",
    "\n",
    "make_tags('i', 'Yay') → '<i>Yay</i>'\n",
    "make_tags('i', 'Hello') → '<i>Hello</i>'\n",
    "make_tags('cite', 'Yay') → '<cite>Yay</cite>'"
   ]
  },
  {
   "cell_type": "code",
   "execution_count": null,
   "id": "0995c15d",
   "metadata": {},
   "outputs": [],
   "source": [
    "def make_tags(tag, word):\n",
    "  \n",
    "  tg1 = '<'+tag+'>'\n",
    "  tg2 = '</'+tag+'>'\n",
    "  return tg1 + word + tg2"
   ]
  },
  {
   "cell_type": "markdown",
   "id": "649dd62c",
   "metadata": {},
   "source": [
    "####first_two\n",
    "\n",
    "Given a string, return the string made of its first two chars, so the String \"Hello\" yields \"He\". If the string is shorter than length 2, return whatever there is, so \"X\" yields \"X\", and the empty string \"\" yields the empty string \"\".\n",
    "\n",
    "first_two('Hello') → 'He'\n",
    "first_two('abcdefg') → 'ab'\n",
    "first_two('ab') → 'ab'"
   ]
  },
  {
   "cell_type": "code",
   "execution_count": null,
   "id": "77540517",
   "metadata": {},
   "outputs": [],
   "source": [
    "def first_two(str):\n",
    "\n",
    "  if len(str) <= 1: \n",
    "    return str\n",
    "  else:\n",
    "    return str[:2] #trenger egt bare denne linja\n"
   ]
  },
  {
   "cell_type": "markdown",
   "id": "60eff670",
   "metadata": {},
   "source": [
    "####combo_string\n",
    "\n",
    "Given 2 strings, a and b, return a string of the form short+long+short, with the shorter string on the outside and the longer string on the inside. The strings will not be the same length, but they may be empty (length 0).\n",
    "\n",
    "combo_string('Hello', 'hi') → 'hiHellohi'\n",
    "combo_string('hi', 'Hello') → 'hiHellohi'\n",
    "combo_string('aaa', 'b') → 'baaab'"
   ]
  },
  {
   "cell_type": "code",
   "execution_count": null,
   "id": "c391ae48",
   "metadata": {},
   "outputs": [],
   "source": [
    "def combo_string(a, b):\n",
    "  \n",
    "  aa = len(a)\n",
    "  bb = len(b)\n",
    "  \n",
    "  if aa > bb and bb != 0:\n",
    "    return b + a + b\n",
    "  if bb > aa and aa != 0:\n",
    "    return a + b + a\n",
    "  else:\n",
    "    return a + b"
   ]
  },
  {
   "cell_type": "markdown",
   "id": "a44a7f68",
   "metadata": {},
   "source": [
    "### String 2\n",
    "\n",
    "####double_char\n",
    "\n",
    "Given a string, return a string where for every char in the original, there are two chars.\n",
    "\n",
    "double_char('The') → 'TThhee'\n",
    "double_char('AAbb') → 'AAAAbbbb'\n",
    "double_char('Hi-There') → 'HHii--TThheerree'"
   ]
  },
  {
   "cell_type": "code",
   "execution_count": null,
   "id": "df4d5de0",
   "metadata": {},
   "outputs": [],
   "source": [
    "def double_char(str):\n",
    "  res = ''\n",
    "  for element in str:\n",
    "    res += element + element\n",
    "  return res"
   ]
  },
  {
   "cell_type": "markdown",
   "id": "9f9d7c9f",
   "metadata": {},
   "source": [
    "####count_code\n",
    "\n",
    "Return the number of times that the string \"code\" appears anywhere in the given string, except we'll accept any letter for the 'd', so \"cope\" and \"cooe\" count.\n",
    "\n",
    "count_code('aaacodebbb') → 1\n",
    "count_code('codexxcode') → 2\n",
    "count_code('cozexxcope') → 2"
   ]
  },
  {
   "cell_type": "code",
   "execution_count": null,
   "id": "c3b8cd43",
   "metadata": {},
   "outputs": [],
   "source": [
    "def count_hi(str):\n",
    "\n",
    "  finn = 'hi'\n",
    "  return str.count(finn)\n",
    " "
   ]
  },
  {
   "cell_type": "markdown",
   "id": "cc7b367b",
   "metadata": {},
   "source": [
    "####end_other\n",
    "\n",
    "Given two strings, return True if either of the strings appears at the very end of the other string, ignoring upper/lower case differences (in other words, the computation should not be \"case sensitive\"). Note: s.lower() returns the lowercase version of a string.\n",
    "\n",
    "\n",
    "end_other('Hiabc', 'abc') → True\n",
    "end_other('AbC', 'HiaBc') → True\n",
    "end_other('abc', 'abXabc') → True"
   ]
  },
  {
   "cell_type": "code",
   "execution_count": null,
   "id": "86987437",
   "metadata": {},
   "outputs": [],
   "source": [
    "def end_other(a, b):\n",
    "  \n",
    "  a = a.lower()\n",
    "  b = b.lower()\n",
    "  \n",
    "  if a.endswith(b):\n",
    "    return True\n",
    "  if b.endswith(a):\n",
    "    return True\n",
    "  else:\n",
    "    return False"
   ]
  },
  {
   "cell_type": "markdown",
   "id": "0de1091d",
   "metadata": {},
   "source": [
    "####cat_dog\n",
    "\n",
    "Return True if the string \"cat\" and \"dog\" appear the same number of times in the given string.\n",
    "\n",
    "cat_dog('catdog') → True\n",
    "cat_dog('catcat') → False\n",
    "cat_dog('1cat1cadodog') → True"
   ]
  },
  {
   "cell_type": "code",
   "execution_count": null,
   "id": "6775d810",
   "metadata": {},
   "outputs": [],
   "source": [
    "def cat_dog(str):\n",
    "  \n",
    "  cat = 'cat'\n",
    "  dog = 'dog'\n",
    "  c = str.count(cat)\n",
    "  d = str.count(dog)\n",
    "  \n",
    "  if c == d:\n",
    "   return True\n",
    "  else:\n",
    "   return False"
   ]
  },
  {
   "cell_type": "markdown",
   "id": "d7d65e46",
   "metadata": {},
   "source": [
    "####xyz_there\n",
    "\n",
    "Return True if the given string contains an appearance of \"xyz\" where the xyz is not directly preceeded by a period (.). So \"xxyz\" counts but \"x.xyz\" does not.\n",
    "\n",
    "xyz_there('abcxyz') → True\n",
    "xyz_there('abc.xyz') → False\n",
    "xyz_there('xyz.abc') → True"
   ]
  },
  {
   "cell_type": "code",
   "execution_count": null,
   "id": "764683d5",
   "metadata": {},
   "outputs": [],
   "source": [
    "def xyz_there(str):\n",
    "  \n",
    "  xyz = 'xyz'\n",
    "  ikke = '.xyz'\n",
    "  \n",
    "  tell1 = str.count(xyz)\n",
    "  tell2 = str.count(ikke)\n",
    "  \n",
    "  if tell1 > tell2:\n",
    "    return True\n",
    "  else:\n",
    "    return False\n"
   ]
  }
 ],
 "metadata": {
  "kernelspec": {
   "display_name": "Python 3 (ipykernel)",
   "language": "python",
   "name": "python3"
  },
  "language_info": {
   "codemirror_mode": {
    "name": "ipython",
    "version": 3
   },
   "file_extension": ".py",
   "mimetype": "text/x-python",
   "name": "python",
   "nbconvert_exporter": "python",
   "pygments_lexer": "ipython3",
   "version": "3.8.10"
  }
 },
 "nbformat": 4,
 "nbformat_minor": 5
}
